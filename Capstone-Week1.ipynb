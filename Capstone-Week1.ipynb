{
 "cells": [
  {
   "cell_type": "markdown",
   "metadata": {
    "collapsed": true
   },
   "source": [
    "# The battle of neighborhoods-Week1"
   ]
  },
  {
   "cell_type": "markdown",
   "metadata": {},
   "source": [
    "## Introduction/Business Problem"
   ]
  },
  {
   "cell_type": "markdown",
   "metadata": {},
   "source": [
    "As one of the world's leading metropolises for art, fashion, food and theater, New York city attracts a large number of tourists and immigrants. It brings in a variety of people from different ethnic backgrounds. As the hub of interactions between multiple cultures, New York city has many opportunities for entrepreneurs to start or grow their business. New York city is also well-known as a 'food paradise', there are many restaurants in New York City, each belonging to different categories like Chinese, Japanese, Thailand, etc. so opening a restaurant seems to have a promising future. \n",
    "\n",
    "In this project, I am going to look for an optimal location to open a japanese restaruant for a succuessful business.\n",
    "There are two aspects that I would mainly consider. The first factor is the extent of competition among janpanese restarnts in different places. The other concern is the popularity of the location, such as whether the place has high average ratings, which is more likely to appeal to more people visting. the report can provide a reference for following audidence: a) people who desire to open a japanese restaurant in New York city; b) Business man who want to invest in janpanese restaurant in New York city; c) visitors or immigrants who are big fan of japanese cuisine."
   ]
  },
  {
   "cell_type": "markdown",
   "metadata": {},
   "source": [
    "## Data"
   ]
  },
  {
   "cell_type": "markdown",
   "metadata": {},
   "source": [
    "The following data is necessary for this project:\n",
    "a) New York City data that contains Borough, Neighborhoods along with there latitudes and longitudes\n",
    "Data Source: https://cocl.us/new_york_dataset\n",
    "\n",
    "Description: This data set is used to to explore various neighborhoods of new york city.\n",
    "\n",
    "b) Japanese restaurants in Queens neighborhood of new york city.\n",
    "Data Source: Foursquare API\n",
    "\n",
    "Description: Foursquare data is very comprehensive and it powers location data,from which we can get details such as latitudes and longtitudes,etc.\n",
    "\n",
    "c) New York City data containing neighborhood boundaries\n",
    "Data source: https://data.cityofnewyork.us/City-Government/Borough-Boundaries/tqmj-j8zm"
   ]
  },
  {
   "cell_type": "code",
   "execution_count": null,
   "metadata": {},
   "outputs": [],
   "source": []
  },
  {
   "cell_type": "code",
   "execution_count": null,
   "metadata": {},
   "outputs": [],
   "source": []
  }
 ],
 "metadata": {
  "kernelspec": {
   "display_name": "Python 3.7",
   "language": "python",
   "name": "python3"
  },
  "language_info": {
   "codemirror_mode": {
    "name": "ipython",
    "version": 3
   },
   "file_extension": ".py",
   "mimetype": "text/x-python",
   "name": "python",
   "nbconvert_exporter": "python",
   "pygments_lexer": "ipython3",
   "version": "3.7.9"
  }
 },
 "nbformat": 4,
 "nbformat_minor": 1
}
